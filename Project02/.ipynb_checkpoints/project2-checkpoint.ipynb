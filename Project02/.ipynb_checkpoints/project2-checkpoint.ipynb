{
 "cells": [
  {
   "cell_type": "code",
   "execution_count": 67,
   "id": "fb11d3fc-127f-42b0-9fd6-3049f8c56af0",
   "metadata": {},
   "outputs": [],
   "source": [
    "import pandas as pd\n",
    "import numpy as np\n",
    "from scipy.stats import skew, kurtosis, kstest, norm, t\n",
    "import matplotlib.pyplot as plt\n",
    "from statsmodels.tsa.arima.model import ARIMA\n",
    "from statsmodels.tsa.arima_process import ArmaProcess\n",
    "from statsmodels.graphics.tsaplots import plot_acf, plot_pacf\n",
    "from sklearn.decomposition import PCA\n",
    "import os\n",
    "os.chdir(\"/Users/kakifang/Documents/duke/fintech540/FinTech545_Spring2025/Projects/Project02\")\n"
   ]
  },
  {
   "cell_type": "code",
   "execution_count": 89,
   "id": "9b6c1965-8eb1-4041-ae08-17047a58a92d",
   "metadata": {},
   "outputs": [
    {
     "name": "stdout",
     "output_type": "stream",
     "text": [
      "Arithmetic Returns (Last 5 rows):\n",
      "          SPY      AAPL      EQIX\n",
      "499 -0.011492 -0.014678 -0.006966\n",
      "500 -0.012377 -0.014699 -0.008064\n",
      "501 -0.004603 -0.008493  0.006512\n",
      "502 -0.003422 -0.027671  0.000497\n",
      "503  0.011538 -0.003445  0.015745\n",
      "\n",
      "Arithmetic Returns Standard Deviations:\n",
      "SPY     0.008077\n",
      "AAPL    0.013483\n",
      "EQIX    0.015361\n",
      "dtype: float64\n",
      "total log sd 0.03692020042548768\n",
      "\n",
      "Log Returns (Last 5 rows):\n",
      "          SPY      AAPL      EQIX\n",
      "499 -0.011515 -0.014675 -0.006867\n",
      "500 -0.012410 -0.014696 -0.007972\n",
      "501 -0.004577 -0.008427  0.006602\n",
      "502 -0.003392 -0.027930  0.000613\n",
      "503  0.011494 -0.003356  0.015725\n",
      "\n",
      "Log Returns Standard Deviations:\n",
      "SPY     0.008078\n",
      "AAPL    0.013446\n",
      "EQIX    0.015270\n",
      "dtype: float64\n",
      "total log sd 0.036794890604909536\n"
     ]
    }
   ],
   "source": [
    "#1 A B\n",
    "#load data\n",
    "data = pd.read_csv(\"DailyPrices.csv\", parse_dates=['Date'])\n",
    "\n",
    "#select stock\n",
    "stocks = ['SPY', 'AAPL', 'EQIX']\n",
    "prices = data[stocks].copy()\n",
    "\n",
    "#Arithmetic return\n",
    "arith_returns = prices.pct_change().dropna()\n",
    "\n",
    "# remove mean and calculate sd\n",
    "arith_returns_demeaned = arith_returns - arith_returns.mean()\n",
    "std_arith = arith_returns_demeaned.std()\n",
    "\n",
    "#display\n",
    "print(\"Arithmetic Returns (Last 5 rows):\")\n",
    "print(arith_returns_demeaned.tail())\n",
    "print(\"\\nArithmetic Returns Standard Deviations:\")\n",
    "print(std_arith)\n",
    "print(\"total log sd\", sum(std_arith))\n",
    "\n",
    "#log\n",
    "log_returns = np.log(prices / prices.shift(1)).dropna()\n",
    "\n",
    "# remove mean and calculate sd\n",
    "log_returns_demeaned = log_returns - log_returns.mean()\n",
    "std_log = log_returns_demeaned.std()\n",
    "\n",
    "# display\n",
    "print(\"\\nLog Returns (Last 5 rows):\")\n",
    "print(log_returns_demeaned.tail())\n",
    "print(\"\\nLog Returns Standard Deviations:\")\n",
    "print(std_log)\n",
    "print(\"total log sd\", sum(std_log))"
   ]
  },
  {
   "cell_type": "code",
   "execution_count": 69,
   "id": "96cdcb12-e5ca-4ed4-a568-1e5909d0a382",
   "metadata": {},
   "outputs": [
    {
     "name": "stdout",
     "output_type": "stream",
     "text": [
      "Portfolio Value on 2025-01-03 = $251,862.50\n"
     ]
    }
   ],
   "source": [
    "#2 A\n",
    "#load data sort by price\n",
    "data = pd.read_csv(\"DailyPrices.csv\", parse_dates=[\"Date\"])\n",
    "data.sort_values(\"Date\", inplace=True)\n",
    "\n",
    "#position\n",
    "portfolio = {\"SPY\": 100.0, \"AAPL\": 200.0, \"EQIX\": 150.0}\n",
    "target_date = \"2025-01-03\"\n",
    "\n",
    "#calculate value\n",
    "row = data[data[\"Date\"] == target_date]\n",
    "total_value = 0.0\n",
    "for stock in portfolio:\n",
    "    price = float(row[stock].iloc[0])\n",
    "    total_value += portfolio[stock] * price\n",
    "\n",
    "print(\"Portfolio Value on\", target_date, \"=\", f\"${total_value:,.2f}\")\n"
   ]
  },
  {
   "cell_type": "code",
   "execution_count": 90,
   "id": "569a336a-6b40-40f1-8db7-631341700af6",
   "metadata": {},
   "outputs": [
    {
     "name": "stdout",
     "output_type": "stream",
     "text": [
      "Normal VaR: 3856.3183014814767\n",
      "Normal ES: 4835.978727805546\n"
     ]
    }
   ],
   "source": [
    "# 2 B a\n",
    "# Exponential weighted covariance calculation\n",
    "def calc_exp_cov(data, decay=0.97):\n",
    "    weights = np.array([decay ** i for i in range(len(data))])[::-1]\n",
    "    weights /= weights.sum()\n",
    "    avg = np.average(data, axis=0, weights=weights)\n",
    "    diff = data - avg\n",
    "    cov_matrix = np.dot(weights * diff.T, diff)\n",
    "    return pd.DataFrame(cov_matrix, index=data.columns, columns=data.columns)\n",
    "\n",
    "#filter data and compute return\n",
    "stocks = list(portfolio.keys())\n",
    "sub_prices = data[[\"Date\"] + stocks].dropna().sort_values(\"Date\").set_index(\"Date\")\n",
    "daily_ret = sub_prices.pct_change().dropna()\n",
    "\n",
    "# demean value\n",
    "ret_zero = daily_ret - daily_ret.mean()\n",
    "exp_cov = calc_exp_cov(ret_zero, decay=0.97).values\n",
    "z_score = norm.ppf(0.05)\n",
    "pdf_val = norm.pdf(z_score)\n",
    "\n",
    "# weights in dollars\n",
    "assets = np.array([portfolio[s] * curr_prices[s] for s in stocks])\n",
    "dollar_w = assets / port_value\n",
    "\n",
    "\n",
    "p_var = dollar_w @ exp_cov @ dollar_w\n",
    "p_std = np.sqrt(p_var)\n",
    "var_norm = -z_score * p_std * port_value\n",
    "es_norm = p_std * (pdf_val / 0.05) * port_value\n",
    "\n",
    "print(\"Normal VaR:\", var_norm)\n",
    "print(\"Normal ES:\", es_norm)\n"
   ]
  },
  {
   "cell_type": "code",
   "execution_count": 91,
   "id": "b81fab5e-b7aa-4038-a8d9-ad10d718f0be",
   "metadata": {},
   "outputs": [
    {
     "name": "stdout",
     "output_type": "stream",
     "text": [
      "Portfolio Value: $251,862.50\n",
      "5% VaR = $4,369.76\n",
      "5% ES  = $6,074.73\n"
     ]
    }
   ],
   "source": [
    "# 2B b\n",
    "import numpy as np\n",
    "import pandas as pd\n",
    "from scipy.stats import norm, t, multivariate_normal\n",
    "\n",
    "def simulate_tcopula(csv_path, tickers, positions, alpha=0.05):\n",
    "    df_all = pd.read_csv(csv_path, parse_dates=[\"Date\"])\n",
    "    df_all.sort_values(\"Date\", inplace=True, ignore_index=True)\n",
    "\n",
    "    df_returns = df_all.copy()\n",
    "    for sym in tickers:\n",
    "        df_returns[sym] = df_returns[sym].pct_change()\n",
    "    df_returns.dropna(inplace=True)\n",
    "    ret_zero = {}\n",
    "    t_params = {}\n",
    "    for sym in tickers:\n",
    "        vals = df_returns[sym].values\n",
    "        centered = vals - np.mean(vals)\n",
    "        ret_zero[sym] = centered\n",
    "        df_val, loc_val, scale_val = t.fit(centered, method=\"MLE\")\n",
    "        t_params[sym] = (df_val, loc_val, scale_val)\n",
    "    \n",
    "    U = pd.DataFrame({sym: t.cdf(ret_zero[sym], *t_params[sym]) for sym in tickers})\n",
    "\n",
    "    norm_q = U.apply(lambda col: norm.ppf(col))\n",
    "    spearman_corr = norm_q.corr(method=\"spearman\")\n",
    "    \n",
    "    np.random.seed(29)\n",
    "    sim_norm = multivariate_normal.rvs(\n",
    "        mean=np.zeros(len(tickers)),\n",
    "        cov=spearman_corr,\n",
    "        size=n_sim\n",
    "    )\n",
    "    \n",
    "    sim_t = np.zeros_like(sim_norm)\n",
    "    for i, sym in enumerate(tickers):\n",
    "        df_val, loc_val, scale_val = t_params[sym]\n",
    "        u_sim = norm.cdf(sim_norm[:, i])\n",
    "        sim_t[:, i] = t.ppf(u_sim, df_val, loc_val, scale_val)\n",
    "    \n",
    "    last_prices = df_all.iloc[-1]\n",
    "    sim_pnl = np.zeros(n_sim)\n",
    "    for i, sym in enumerate(tickers):\n",
    "        sim_pnl += positions[sym] * last_prices[sym] * sim_t[:, i]\n",
    "    \n",
    "    var_val = np.percentile(sim_pnl, alpha * 100)\n",
    "    es_val = sim_pnl[sim_pnl <= var_val].mean() if np.any(sim_pnl <= var_val) else var_val\n",
    "    total_value = sum(positions[sym] * last_prices[sym] for sym in tickers)\n",
    "    \n",
    "    return var_val, es_val, sim_pnl, total_value\n",
    "\n",
    "csv_file = \"DailyPrices.csv\"\n",
    "stock_list = [\"SPY\", \"AAPL\", \"EQIX\"]\n",
    "pos_dict = {\"SPY\": 100.0, \"AAPL\": 200.0, \"EQIX\": 150.0}\n",
    "alpha_level = 0.05\n",
    "\n",
    "var_sim, es_sim, sim_results, port_val = simulate_tcopula(csv_file, stock_list, pos_dict, alpha=alpha_level)\n",
    "\n",
    "print(f\"Portfolio Value: ${port_val:,.2f}\")\n",
    "print(f\"{int(alpha_level*100)}% VaR = ${-var_sim:,.2f}\")\n",
    "print(f\"{int(alpha_level*100)}% ES  = ${-es_sim:,.2f}\")\n"
   ]
  },
  {
   "cell_type": "code",
   "execution_count": 92,
   "id": "59d3a105-b391-434d-818c-32f365113a6c",
   "metadata": {},
   "outputs": [
    {
     "name": "stdout",
     "output_type": "stream",
     "text": [
      "Historical 5% VaR: $4,575.03\n",
      "Historical 5% ES: $6,059.39\n"
     ]
    }
   ],
   "source": [
    "#2 b c Historical var\n",
    "hist_pnl = ret_zero.values @ np.array([positions[s] * curr_prices[s] for s in stocks])\n",
    "var_hist = np.percentile(hist_pnl, 5)\n",
    "es_hist = hist_pnl[hist_pnl <= var_hist].mean() if np.any(hist_pnl <= var_hist) else var_hist\n",
    "print(f\"Historical 5% VaR: ${-var_hist:,.2f}\")\n",
    "print(f\"Historical 5% ES: ${-es_hist:,.2f}\")\n"
   ]
  },
  {
   "cell_type": "code",
   "execution_count": 76,
   "id": "64da7568-2a80-478e-9453-fbe5ebba6c3d",
   "metadata": {},
   "outputs": [
    {
     "name": "stdout",
     "output_type": "stream",
     "text": [
      "IV = 33.51%\n"
     ]
    }
   ],
   "source": [
    "#question 3 A\n",
    "import math\n",
    "from math import log, sqrt, exp\n",
    "from scipy.stats import norm\n",
    "from scipy.optimize import brentq\n",
    "import numpy as np\n",
    "import matplotlib.pyplot as plt\n",
    "\n",
    "#bsm\n",
    "def bs_call(spot, strike, time, rate, vol):\n",
    "    d1 = (log(spot / strike) + (rate + 0.5 * vol**2) * time) / (vol * sqrt(time))\n",
    "    d2 = d1 - vol * sqrt(time)\n",
    "    return spot * norm.cdf(d1) - strike * exp(-rate * time) * norm.cdf(d2)\n",
    "\n",
    "def bs_put(spot, strike, time, rate, vol):\n",
    "    d1 = (log(spot / strike) + (rate + 0.5 * vol**2) * time) / (vol * sqrt(time))\n",
    "    d2 = d1 - vol * sqrt(time)\n",
    "    return strike * exp(-rate * time) * norm.cdf(-d2) - spot * norm.cdf(-d1)\n",
    "\n",
    "def iv_call(spot, strike, time, rate, market):\n",
    "    f = lambda vol: bs_call(spot, strike, time, rate, vol) - market\n",
    "    return brentq(f, 1e-6, 5.0)\n",
    "\n",
    "\n",
    "# Base parameters\n",
    "spot = 31.0\n",
    "strike = 30.0\n",
    "rate = 0.10\n",
    "maturity = 0.25\n",
    "mkt_call = 3.0\n",
    "\n",
    "iv = iv_call(spot, strike, maturity, rate, mkt_call)\n",
    "print(f\"IV = {iv*100:.2f}%\")"
   ]
  },
  {
   "cell_type": "code",
   "execution_count": 84,
   "id": "4b5f2a8c-8390-446a-81ff-d8a486502518",
   "metadata": {},
   "outputs": [
    {
     "name": "stdout",
     "output_type": "stream",
     "text": [
      "Call Delta = 0.6659\n",
      "Put Delta = -0.3341\n",
      "Call Vega  = 5.6407\n",
      "Call Theta = -5.5446\n",
      "Put Theta = -2.6186\n",
      "Actual Price Change = 0.0565\n",
      "Vega Approx Change = 0.0564\n"
     ]
    }
   ],
   "source": [
    "# 3 B Option Greeks\n",
    "def delta_call(spot, strike, time, rate, vol):\n",
    "    d1 = (log(spot / strike) + (rate + 0.5 * vol**2) * time) / (vol * sqrt(time))\n",
    "    return norm.cdf(d1)\n",
    "\n",
    "def delta_put(spot, strike, time, rate, vol):\n",
    "    return delta_call(spot, strike, time, rate, vol) - 1\n",
    "\n",
    "def vega_call(spot, strike, time, rate, vol):\n",
    "    d1 = (log(spot / strike) + (rate + 0.5 * vol**2) * time) / (vol * sqrt(time))\n",
    "    return spot * norm.pdf(d1) * sqrt(time)\n",
    "\n",
    "def theta_call(spot, strike, time, rate, vol):\n",
    "    d1 = (log(spot / strike) + (rate + 0.5 * vol**2) * time) / (vol * sqrt(time))\n",
    "    d2 = d1 - vol * sqrt(time)\n",
    "    return - (spot * norm.pdf(d1) * vol) / (2 * sqrt(time)) - rate * strike * exp(-rate * time) * norm.cdf(d2)\n",
    "\n",
    "def theta_put(spot, strike, time, rate, vol):\n",
    "    d1 = (log(spot / strike) + (rate + 0.5 * vol**2) * time) / (vol * sqrt(time))\n",
    "    d2 = d1 - vol * sqrt(time)\n",
    "    return - (spot * norm.pdf(d1) * vol) / (2 * sqrt(time)) + rate * strike * exp(-rate * time) * norm.cdf(-d2)\n",
    "\n",
    "\n",
    "d_c = delta_call(spot, strike, maturity, rate, iv)\n",
    "v_c = vega_call(spot, strike, maturity, rate, iv)\n",
    "t_c = theta_call(spot, strike, maturity, rate, iv)\n",
    "d_p = delta_put(spot, strike, maturity, rate, iv)\n",
    "t_p = theta_put(spot, strike, maturity, rate, iv)\n",
    "print(f\"Call Delta = {d_c:.4f}\")\n",
    "print(f\"Put Delta = {d_p:.4f}\")\n",
    "print(f\"Call Vega  = {v_c:.4f}\")\n",
    "print(f\"Call Theta = {t_c:.4f}\")\n",
    "print(f\"Put Theta = {t_p:.4f}\")\n",
    "\n",
    "# Vega approximation\n",
    "iv_adj = iv + 0.01\n",
    "price0 = bs_call(spot, strike, maturity, rate, iv)\n",
    "price1 = bs_call(spot, strike, maturity, rate, iv_adj)\n",
    "print(f\"Actual Price Change = {price1 - price0:.4f}\")\n",
    "print(f\"Vega Approx Change = {v_c * 0.01:.4f}\")\n",
    "\n"
   ]
  },
  {
   "cell_type": "code",
   "execution_count": 85,
   "id": "2df1dd00-0018-4d4e-89cb-2bb16daef353",
   "metadata": {},
   "outputs": [
    {
     "name": "stdout",
     "output_type": "stream",
     "text": [
      "Put Price = 1.2593\n",
      "LHS (Call + PV) = 32.2593\n",
      "RHS (Put + Spot)= 32.2593\n",
      "Difference = 0.00000000\n"
     ]
    }
   ],
   "source": [
    "# 3 C Put price and put-call parity check\n",
    "put_val = bs_put(spot, strike, maturity, rate, iv)\n",
    "lhs = mkt_call + strike * exp(-rate * maturity)\n",
    "rhs = put_val + spot\n",
    "print(f\"Put Price = {put_val:.4f}\")\n",
    "print(f\"LHS (Call + PV) = {lhs:.4f}\")\n",
    "print(f\"RHS (Put + Spot)= {rhs:.4f}\")\n",
    "print(f\"Difference = {lhs - rhs:.8f}\")"
   ]
  },
  {
   "cell_type": "code",
   "execution_count": 98,
   "id": "98d5230a-77a2-4c2e-8573-a5f152463025",
   "metadata": {},
   "outputs": [
    {
     "name": "stdout",
     "output_type": "stream",
     "text": [
      "Portfolio Info:\n",
      "Stock = 31.00, Call = 3.0000, Put = 1.2593, Total = 35.2593\n",
      "\n",
      "Delta-Normal Approximation:\n",
      "Delta = 1.3319, Theta = -8.1632\n",
      "Mean PnL = -0.6403, Std PnL = 2.8907\n",
      "VaR (95%) = 5.3951, ES (95%) = 6.6030\n",
      "\n",
      "Monte Carlo Simulation:\n",
      "Sims = 100000, Mean PnL = -0.2083\n",
      "VaR (95%) = 4.1383, ES (95%) = 4.5823\n"
     ]
    }
   ],
   "source": [
    "# 3 D\n",
    "days_year = 255\n",
    "hold_days = 20\n",
    "ann_vol = 0.25\n",
    "daily_vol = ann_vol / math.sqrt(days_year)\n",
    "vol_20d = daily_vol * sqrt(hold_days)\n",
    "\n",
    "call0 = bs_call(spot, strike, maturity, rate, iv)\n",
    "put0 = bs_put(spot, strike, maturity, rate, iv)\n",
    "port0 = call0 + put0 + spot\n",
    "print(\"Portfolio Info:\")\n",
    "print(f\"Stock = {spot:.2f}, Call = {call0:.4f}, Put = {put0:.4f}, Total = {port0:.4f}\")\n",
    "\n",
    "# Compute portfolio Greeks\n",
    "d_call_val = delta_call(spot, strike, maturity, rate, iv)\n",
    "d_put_val  = delta_put(spot, strike, maturity, rate, iv)\n",
    "port_delta = d_call_val + d_put_val + 1.0\n",
    "theta_val_call = theta_call(spot, strike, maturity, rate, iv)\n",
    "theta_val_put = theta_put(spot, strike, maturity, rate, iv)\n",
    "port_theta = theta_val_call + theta_val_put\n",
    "dt = hold_days / days_year\n",
    "mean_pnl = port_theta * dt\n",
    "std_pnl = abs(port_delta) * spot * vol_20d\n",
    "z = norm.ppf(0.05)\n",
    "var_dn = -(mean_pnl + z * std_pnl)\n",
    "phi = norm.pdf(z)\n",
    "es_dn = std_pnl * phi / 0.05 - mean_pnl\n",
    "\n",
    "print(\"\\nDelta-Normal Approximation:\")\n",
    "print(f\"Delta = {port_delta:.4f}, Theta = {port_theta:.4f}\")\n",
    "print(f\"Mean PnL = {mean_pnl:.4f}, Std PnL = {std_pnl:.4f}\")\n",
    "print(f\"VaR (95%) = {var_dn:.4f}, ES (95%) = {es_dn:.4f}\")\n",
    "\n",
    "# Monte Carlo simulation\n",
    "n_sim = 100000\n",
    "np.random.seed(29)\n",
    "rand_draws = np.random.normal(0, vol_20d, n_sim)\n",
    "spot_sim = spot * np.exp(rand_draws)\n",
    "time_new = maturity - (hold_days / days_year)\n",
    "call_sim = np.array([bs_call(s, strike, time_new, rate, iv) for s in spot_sim])\n",
    "put_sim  = np.array([bs_put(s, strike, time_new, rate, iv) for s in spot_sim])\n",
    "port_sim = call_sim + put_sim + spot_sim\n",
    "pnl = port_sim - port0\n",
    "sorted_pnl = np.sort(pnl)\n",
    "var_mc = -sorted_pnl[int(0.05 * n_sim)]\n",
    "es_mc = -sorted_pnl[:int(0.05 * n_sim)].mean()\n",
    "\n",
    "print(\"\\nMonte Carlo Simulation:\")\n",
    "print(f\"Sims = {n_sim}, Mean PnL = {pnl.mean():.4f}\")\n",
    "print(f\"VaR (95%) = {var_mc:.4f}, ES (95%) = {es_mc:.4f}\")\n"
   ]
  },
  {
   "cell_type": "code",
   "execution_count": 88,
   "id": "8265b913-972c-43cd-b149-af7d3dcf0ce2",
   "metadata": {},
   "outputs": [
    {
     "data": {
      "image/png": "[encoded data removed]",
      "text/plain": [
       "<Figure size 1000x600 with 1 Axes>"
      ]
     },
     "metadata": {},
     "output_type": "display_data"
    }
   ],
   "source": [
    "# 3 E\n",
    "spot_range = np.linspace(20, 40, 100)\n",
    "call_vals = np.array([bs_call(s, strike, time_new, rate, iv) for s in spot_range])\n",
    "put_vals  = np.array([bs_put(s, strike, time_new, rate, iv) for s in spot_range])\n",
    "port_overall = call_vals + put_vals + spot_range\n",
    "port_val_mc = call_vals + put_vals + spot_range\n",
    "port_val_dn = port0 + port_delta * (spot_range - spot)\n",
    "\n",
    "plt.figure(figsize=(10, 6))\n",
    "plt.plot(spot_range, port_overall, label=\"port_overall\")\n",
    "plt.plot(spot_range, port_val_mc, label=\"MC Portfolio\")\n",
    "plt.plot(spot_range, port_val_dn, '--', label=\"Delta-Normal\")\n",
    "plt.axvline(x=spot, color='black', linestyle=':', label=\"Spot\")\n",
    "plt.xlabel(\"Stock Price\")\n",
    "plt.ylabel(\"Portfolio Value\")\n",
    "plt.title(\"Portfolio Value vs. Stock Price\")\n",
    "plt.legend()\n",
    "plt.show()"
   ]
  },
  {
   "cell_type": "code",
   "execution_count": null,
   "id": "540ab919-0c30-4a72-972f-0b5de5ec711d",
   "metadata": {},
   "outputs": [],
   "source": []
  }
 ],
 "metadata": {
  "kernelspec": {
   "display_name": "Python (Jupyter Env)",
   "language": "python",
   "name": "jupyter_env"
  },
  "language_info": {
   "codemirror_mode": {
    "name": "ipython",
    "version": 3
   },
   "file_extension": ".py",
   "mimetype": "text/x-python",
   "name": "python",
   "nbconvert_exporter": "python",
   "pygments_lexer": "ipython3",
   "version": "3.13.2"
  }
 },
 "nbformat": 4,
 "nbformat_minor": 5
}
